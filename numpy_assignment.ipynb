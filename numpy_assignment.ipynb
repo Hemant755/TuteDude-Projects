{
 "cells": [
  {
   "cell_type": "code",
   "execution_count": 12,
   "id": "19d6ac97-e13d-415a-a313-ab6b801703b2",
   "metadata": {},
   "outputs": [],
   "source": [
    "# Assignment 1 Woking with numpy\n",
    "import numpy as np"
   ]
  },
  {
   "cell_type": "code",
   "execution_count": 14,
   "id": "eb950ffd-15e4-44a1-91c4-764e610e71b9",
   "metadata": {},
   "outputs": [
    {
     "name": "stdout",
     "output_type": "stream",
     "text": [
      "210 10.5 10.5 5.766281297335398 (array([10, 11, 12, 13, 14, 15, 16, 17, 18, 19], dtype=int64),)\n"
     ]
    }
   ],
   "source": [
    "# Creating a 1D array with integers from 1 to 20\n",
    "array_1d = np.arange(1, 21)\n",
    "\n",
    "# a. Performing calculations\n",
    "sum_value = np.sum(array_1d)\n",
    "mean_value = np.mean(array_1d)\n",
    "median_value = np.median(array_1d)\n",
    "std_dev = np.std(array_1d)\n",
    "\n",
    "# b. Finding indices of elements greater than 10\n",
    "indices = np.where(array_1d > 10)\n",
    "\n",
    "print(sum_value, mean_value, median_value, std_dev, indices)\n"
   ]
  },
  {
   "cell_type": "code",
   "execution_count": 16,
   "id": "e0959cd4-569b-4680-942b-952393883134",
   "metadata": {},
   "outputs": [
    {
     "name": "stdout",
     "output_type": "stream",
     "text": [
      "[[ 1  2  3  4]\n",
      " [ 5  6  7  8]\n",
      " [ 9 10 11 12]\n",
      " [13 14 15 16]]\n",
      "[[ 1  5  9 13]\n",
      " [ 2  6 10 14]\n",
      " [ 3  7 11 15]\n",
      " [ 4  8 12 16]] [10 26 42 58] [28 32 36 40]\n"
     ]
    }
   ],
   "source": [
    "# Creating a 4x4 array\n",
    "array_2d = np.arange(1, 17).reshape(4, 4)\n",
    "\n",
    "# a. Printing array\n",
    "print(array_2d)\n",
    "\n",
    "# b. Finding the transpose\n",
    "transpose = array_2d.T\n",
    "\n",
    "# c. Row-wise and column-wise sums\n",
    "row_sums = np.sum(array_2d, axis=1)\n",
    "col_sums = np.sum(array_2d, axis=0)\n",
    "\n",
    "print(transpose, row_sums, col_sums)\n"
   ]
  },
  {
   "cell_type": "code",
   "execution_count": 18,
   "id": "a9336677-aad5-4efe-8660-a5c514c4da0b",
   "metadata": {},
   "outputs": [
    {
     "name": "stdout",
     "output_type": "stream",
     "text": [
      "[[20 38  9]\n",
      " [29 26 12]\n",
      " [35 32 20]] [[-12   0   3]\n",
      " [  9  10   4]\n",
      " [ -1  -4 -16]] [[ 64 361  18]\n",
      " [190 144  32]\n",
      " [306 252  36]] [[362 336 196]\n",
      " [628 649 273]\n",
      " [448 471 143]]\n"
     ]
    }
   ],
   "source": [
    "# Creating two random 3x3 arrays\n",
    "array_a = np.random.randint(1, 21, size=(3, 3))\n",
    "array_b = np.random.randint(1, 21, size=(3, 3))\n",
    "\n",
    "# a. Element-wise operations\n",
    "addition = np.add(array_a, array_b)\n",
    "subtraction = np.subtract(array_a, array_b)\n",
    "multiplication = np.multiply(array_a, array_b)\n",
    "\n",
    "# b. Dot product\n",
    "dot_product = np.dot(array_a, array_b)\n",
    "\n",
    "print(addition, subtraction, multiplication, dot_product)\n"
   ]
  },
  {
   "cell_type": "code",
   "execution_count": 20,
   "id": "8421c568-881c-4236-add2-f88e1d4c3a38",
   "metadata": {},
   "outputs": [
    {
     "name": "stdout",
     "output_type": "stream",
     "text": [
      "[[ 1  2  3  4]\n",
      " [ 5  6  7  8]\n",
      " [ 9 10 11 12]] [[3 4]\n",
      " [7 8]]\n"
     ]
    }
   ],
   "source": [
    "# Creating a 1D array and reshape it\n",
    "array_to_reshape = np.arange(1, 13).reshape(3, 4)\n",
    "\n",
    "# Slicing the first two rows and last two columns\n",
    "sliced_array = array_to_reshape[:2, -2:]\n",
    "\n",
    "print(array_to_reshape, sliced_array)\n"
   ]
  },
  {
   "cell_type": "code",
   "execution_count": null,
   "id": "026caf84-add5-4e74-9ae9-5df6b0c3d70d",
   "metadata": {},
   "outputs": [],
   "source": []
  }
 ],
 "metadata": {
  "kernelspec": {
   "display_name": "Python 3 (ipykernel)",
   "language": "python",
   "name": "python3"
  },
  "language_info": {
   "codemirror_mode": {
    "name": "ipython",
    "version": 3
   },
   "file_extension": ".py",
   "mimetype": "text/x-python",
   "name": "python",
   "nbconvert_exporter": "python",
   "pygments_lexer": "ipython3",
   "version": "3.12.7"
  }
 },
 "nbformat": 4,
 "nbformat_minor": 5
}
