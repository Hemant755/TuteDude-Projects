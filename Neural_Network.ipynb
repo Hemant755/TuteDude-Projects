{
 "cells": [
  {
   "cell_type": "code",
   "execution_count": 601,
   "id": "dd7fc947-3025-4232-9919-ec07b12fcbbb",
   "metadata": {},
   "outputs": [],
   "source": [
    "# Creating DataFrame\n",
    "# A\n",
    "a = [0,0,1,1,0,0,\n",
    "     0,1,0,0,1,0,\n",
    "     1,1,1,1,1,1,\n",
    "     1,0,0,0,0,1,\n",
    "     1,0,0,0,0,1]\n",
    "# B\n",
    "b = [0,1,1,1,1,0,\n",
    "     0,1,0,0,1,0,\n",
    "     0,1,1,1,1,0,\n",
    "     0,1,0,0,1,0,\n",
    "     0,1,1,1,1,0]\n",
    "# C\n",
    "c = [0,1,1,1,1,0,\n",
    "     0,1,0,0,0,0,\n",
    "     0,1,0,0,0,0,\n",
    "     0,1,0,0,0,0,\n",
    "     0,1,1,1,1,0]"
   ]
  },
  {
   "cell_type": "code",
   "execution_count": 603,
   "id": "90dd6a53-f035-4bf3-8f17-e8a695092959",
   "metadata": {},
   "outputs": [],
   "source": [
    "# Creating labels\n",
    "y = [[1,0,0],\n",
    "     [0,1,0],\n",
    "     [0,0,1]]"
   ]
  },
  {
   "cell_type": "code",
   "execution_count": 605,
   "id": "f15496e2-f783-4d85-88b1-c217471be619",
   "metadata": {},
   "outputs": [],
   "source": [
    "# Importing Libraries\n",
    "import numpy as np\n",
    "import matplotlib.pyplot as plt"
   ]
  },
  {
   "cell_type": "code",
   "execution_count": 607,
   "id": "7a4b117f-6bfd-4a3f-8d75-c7d6350aa8f8",
   "metadata": {},
   "outputs": [
    {
     "data": {
      "image/png": "[encoded data removed]",
      "text/plain": [
       "<Figure size 640x480 with 1 Axes>"
      ]
     },
     "metadata": {},
     "output_type": "display_data"
    }
   ],
   "source": [
    "# Visualise the data\n",
    "plt.imshow(np.array(a).reshape(5,6))\n",
    "plt.show()"
   ]
  },
  {
   "cell_type": "code",
   "execution_count": 609,
   "id": "d611aa63-2865-4a42-933e-0379da5e65b7",
   "metadata": {},
   "outputs": [],
   "source": [
    "# Convert data into NumPy arrays\n",
    "x = np.array([np.array(a).reshape(1,30), \n",
    "              np.array(b).reshape(1,30), \n",
    "              np.array(c).reshape(1,30)])"
   ]
  },
  {
   "cell_type": "code",
   "execution_count": 611,
   "id": "2d08803e-fe77-4aba-a0af-d2b394aae00f",
   "metadata": {},
   "outputs": [],
   "source": [
    "# Input layer (1, 30)\n",
    "# Hidden layer (1, 5)\n",
    "# Output layer (3, 3)"
   ]
  },
  {
   "cell_type": "code",
   "execution_count": 613,
   "id": "0ab8170c-09a2-4a9c-a2e4-b196e61884c3",
   "metadata": {},
   "outputs": [],
   "source": [
    "# Activation function\n",
    "def sigmoid (x):\n",
    "    x = np.clip(x, -500, 500)\n",
    "    return (1/(1+np.exp(-x)))"
   ]
  },
  {
   "cell_type": "code",
   "execution_count": 615,
   "id": "122601ab-99a5-4148-bba3-abfffa7c2e17",
   "metadata": {},
   "outputs": [],
   "source": [
    "# Initialize weights\n",
    "def generate_wt(x, y):\n",
    "    return np.random.randn(x, y)\n",
    "    "
   ]
  },
  {
   "cell_type": "code",
   "execution_count": 617,
   "id": "2a015561-f708-400f-b8f4-d384b0c32b45",
   "metadata": {},
   "outputs": [],
   "source": [
    "# Feed-forward Neural Network\n",
    "def f_forword(x, w1, w2):\n",
    "    z1 = x.dot(w1)\n",
    "    a1 = sigmoid(z1)\n",
    "\n",
    "    z2 = a1.dot(w2)\n",
    "    a2 = sigmoid(z2)\n",
    "    \n",
    "    return a2"
   ]
  },
  {
   "cell_type": "code",
   "execution_count": 619,
   "id": "b42e834e-a8ee-456e-9a0a-3949d018133a",
   "metadata": {},
   "outputs": [],
   "source": [
    "# Loss function (Mean Squared Error)\n",
    "def loss_fn(out, y):  # Renamed to prevent conflict\n",
    "    return np.mean(np.square(out - y))"
   ]
  },
  {
   "cell_type": "code",
   "execution_count": 621,
   "id": "af414b94-3442-4b15-8d8f-d6c4476ab3f9",
   "metadata": {},
   "outputs": [],
   "source": [
    "# Backpropagation\n",
    "def back_prop(x, y, w1, w2, alpha):\n",
    "    z1 = x.dot(w1)\n",
    "    a1 = sigmoid(z1)\n",
    "\n",
    "    z2 = a1.dot(w2)\n",
    "    a2 = sigmoid(z2)\n",
    "\n",
    "    d2 = a2 - y\n",
    "    d1 = np.multiply((w2.dot(d2.T)).T, np.multiply(a1, 1 - a1))\n",
    "\n",
    "    w1_adj = x.T.dot(d1)\n",
    "    w2_adj = a1.T.dot(d2)\n",
    "\n",
    "    w1 -= alpha * w1_adj\n",
    "    w2 -= alpha * w2_adj\n",
    "\n",
    "    return w1, w2"
   ]
  },
  {
   "cell_type": "code",
   "execution_count": 623,
   "id": "2da80dd5-e654-4322-8556-02755d919e66",
   "metadata": {},
   "outputs": [],
   "source": [
    "# Training function\n",
    "def train(x, y, w1, w2, alpha=0.01, epoch=10):\n",
    "    acc = []\n",
    "    loss_vals = []  \n",
    "\n",
    "    for j in range(epoch):\n",
    "        l = []\n",
    "        for i in range(len(x)):\n",
    "            out = f_forword(x[i], w1, w2)  # Fixed function name\n",
    "            l.append(loss_fn(out, y[i]))  \n",
    "            w1, w2 = back_prop(x[i], y[i], w1, w2, alpha)\n",
    "\n",
    "        epoch_loss = sum(l) / len(x)\n",
    "        epoch_acc = (1 - epoch_loss) * 100\n",
    "\n",
    "        print(f\"Epoch {j + 1}: Accuracy = {epoch_acc:.2f}%\")\n",
    "\n",
    "        acc.append(epoch_acc)\n",
    "        loss_vals.append(epoch_loss)\n",
    "\n",
    "    return acc, loss_vals, w1, w2"
   ]
  },
  {
   "cell_type": "code",
   "execution_count": 641,
   "id": "85110300-eb0f-4a97-bf2e-a58269a4ed16",
   "metadata": {},
   "outputs": [],
   "source": [
    "def predict(x, w1, w2):\n",
    "    out = f_forword(x, w1, w2)  # Run through network\n",
    "    k = np.argmax(out)  # Get highest probability class\n",
    "\n",
    "    labels = [\"A\", \"B\", \"C\"]\n",
    "    \n",
    "    plt.figure(figsize=(4, 4))\n",
    "    plt.imshow(x.reshape(5,6))  # Matches yellow contrast\n",
    "    plt.title(f\"Image is of letter {labels[k]}\", fontsize=14)\n",
    "    plt.xticks([])  # Hide axis ticks\n",
    "    plt.yticks([])\n",
    "    plt.colorbar()\n",
    "    plt.grid(False)\n",
    "    plt.show()"
   ]
  },
  {
   "cell_type": "code",
   "execution_count": 643,
   "id": "83945171-b7a8-42ab-9ae9-53edb092362d",
   "metadata": {},
   "outputs": [],
   "source": [
    "# Initialize Weights\n",
    "w1 = generate_wt(30, 5)\n",
    "w2 = generate_wt(5, 3)"
   ]
  },
  {
   "cell_type": "code",
   "execution_count": 645,
   "id": "d9177a03-2fcc-445f-a720-7a61eb185953",
   "metadata": {},
   "outputs": [
    {
     "name": "stdout",
     "output_type": "stream",
     "text": [
      "Epoch 1: Accuracy = 61.07%\n",
      "Epoch 2: Accuracy = 62.58%\n",
      "Epoch 3: Accuracy = 64.14%\n",
      "Epoch 4: Accuracy = 65.82%\n",
      "Epoch 5: Accuracy = 67.53%\n",
      "Epoch 6: Accuracy = 69.19%\n",
      "Epoch 7: Accuracy = 70.73%\n",
      "Epoch 8: Accuracy = 72.08%\n",
      "Epoch 9: Accuracy = 73.23%\n",
      "Epoch 10: Accuracy = 74.18%\n",
      "Epoch 11: Accuracy = 74.95%\n",
      "Epoch 12: Accuracy = 75.57%\n",
      "Epoch 13: Accuracy = 76.08%\n",
      "Epoch 14: Accuracy = 76.51%\n",
      "Epoch 15: Accuracy = 76.88%\n",
      "Epoch 16: Accuracy = 77.21%\n",
      "Epoch 17: Accuracy = 77.52%\n",
      "Epoch 18: Accuracy = 77.81%\n",
      "Epoch 19: Accuracy = 78.10%\n",
      "Epoch 20: Accuracy = 78.39%\n",
      "Epoch 21: Accuracy = 78.68%\n",
      "Epoch 22: Accuracy = 78.97%\n",
      "Epoch 23: Accuracy = 79.27%\n",
      "Epoch 24: Accuracy = 79.57%\n",
      "Epoch 25: Accuracy = 79.88%\n",
      "Epoch 26: Accuracy = 80.20%\n",
      "Epoch 27: Accuracy = 80.51%\n",
      "Epoch 28: Accuracy = 80.83%\n",
      "Epoch 29: Accuracy = 81.16%\n",
      "Epoch 30: Accuracy = 81.50%\n",
      "Epoch 31: Accuracy = 81.83%\n",
      "Epoch 32: Accuracy = 82.17%\n",
      "Epoch 33: Accuracy = 82.51%\n",
      "Epoch 34: Accuracy = 82.85%\n",
      "Epoch 35: Accuracy = 83.19%\n",
      "Epoch 36: Accuracy = 83.52%\n",
      "Epoch 37: Accuracy = 83.84%\n",
      "Epoch 38: Accuracy = 84.16%\n",
      "Epoch 39: Accuracy = 84.48%\n",
      "Epoch 40: Accuracy = 84.78%\n",
      "Epoch 41: Accuracy = 85.08%\n",
      "Epoch 42: Accuracy = 85.38%\n",
      "Epoch 43: Accuracy = 85.67%\n",
      "Epoch 44: Accuracy = 85.95%\n",
      "Epoch 45: Accuracy = 86.23%\n",
      "Epoch 46: Accuracy = 86.50%\n",
      "Epoch 47: Accuracy = 86.77%\n",
      "Epoch 48: Accuracy = 87.03%\n",
      "Epoch 49: Accuracy = 87.28%\n",
      "Epoch 50: Accuracy = 87.53%\n",
      "Epoch 51: Accuracy = 87.78%\n",
      "Epoch 52: Accuracy = 88.02%\n",
      "Epoch 53: Accuracy = 88.26%\n",
      "Epoch 54: Accuracy = 88.49%\n",
      "Epoch 55: Accuracy = 88.71%\n",
      "Epoch 56: Accuracy = 88.94%\n",
      "Epoch 57: Accuracy = 89.16%\n",
      "Epoch 58: Accuracy = 89.37%\n",
      "Epoch 59: Accuracy = 89.58%\n",
      "Epoch 60: Accuracy = 89.79%\n",
      "Epoch 61: Accuracy = 89.99%\n",
      "Epoch 62: Accuracy = 90.19%\n",
      "Epoch 63: Accuracy = 90.38%\n",
      "Epoch 64: Accuracy = 90.57%\n",
      "Epoch 65: Accuracy = 90.76%\n",
      "Epoch 66: Accuracy = 90.94%\n",
      "Epoch 67: Accuracy = 91.12%\n",
      "Epoch 68: Accuracy = 91.29%\n",
      "Epoch 69: Accuracy = 91.47%\n",
      "Epoch 70: Accuracy = 91.63%\n",
      "Epoch 71: Accuracy = 91.80%\n",
      "Epoch 72: Accuracy = 91.96%\n",
      "Epoch 73: Accuracy = 92.12%\n",
      "Epoch 74: Accuracy = 92.27%\n",
      "Epoch 75: Accuracy = 92.42%\n",
      "Epoch 76: Accuracy = 92.57%\n",
      "Epoch 77: Accuracy = 92.72%\n",
      "Epoch 78: Accuracy = 92.86%\n",
      "Epoch 79: Accuracy = 93.00%\n",
      "Epoch 80: Accuracy = 93.13%\n",
      "Epoch 81: Accuracy = 93.27%\n",
      "Epoch 82: Accuracy = 93.40%\n",
      "Epoch 83: Accuracy = 93.52%\n",
      "Epoch 84: Accuracy = 93.65%\n",
      "Epoch 85: Accuracy = 93.77%\n",
      "Epoch 86: Accuracy = 93.89%\n",
      "Epoch 87: Accuracy = 94.01%\n",
      "Epoch 88: Accuracy = 94.12%\n",
      "Epoch 89: Accuracy = 94.23%\n",
      "Epoch 90: Accuracy = 94.34%\n",
      "Epoch 91: Accuracy = 94.45%\n",
      "Epoch 92: Accuracy = 94.55%\n",
      "Epoch 93: Accuracy = 94.65%\n",
      "Epoch 94: Accuracy = 94.75%\n",
      "Epoch 95: Accuracy = 94.85%\n",
      "Epoch 96: Accuracy = 94.94%\n",
      "Epoch 97: Accuracy = 95.04%\n",
      "Epoch 98: Accuracy = 95.13%\n",
      "Epoch 99: Accuracy = 95.22%\n",
      "Epoch 100: Accuracy = 95.30%\n"
     ]
    }
   ],
   "source": [
    "# Train Model\n",
    "acc, loss_vals, w1, w2 = train(x, y, w1, w2, 0.1, 100)"
   ]
  },
  {
   "cell_type": "code",
   "execution_count": 647,
   "id": "2c6f2a87-825c-423e-99e1-96041bbb6410",
   "metadata": {},
   "outputs": [
    {
     "data": {
      "image/png": "[encoded data removed]",
      "text/plain": [
       "<Figure size 640x480 with 1 Axes>"
      ]
     },
     "metadata": {},
     "output_type": "display_data"
    }
   ],
   "source": [
    "# Visualize Training Progress\n",
    "plt.plot(range(1, 101), acc, label=\"Accuracy\", color=\"b\")\n",
    "plt.plot(range(1, 101), loss_vals, label=\"Loss\", color=\"r\")\n",
    "plt.xlabel(\"Epochs\")\n",
    "plt.ylabel(\"Value\")\n",
    "plt.legend()\n",
    "plt.title(\"Training Progress\")\n",
    "plt.show()"
   ]
  },
  {
   "cell_type": "code",
   "execution_count": 649,
   "id": "aac7bfbe-2ba0-4657-a773-35f053c3436c",
   "metadata": {},
   "outputs": [
    {
     "name": "stdout",
     "output_type": "stream",
     "text": [
      "[[-0.26205804 -0.56805768 -1.19391952  0.80942904  2.13366123]\n",
      " [-0.3438282   0.71830901 -0.34423215 -1.16272661  0.19080569]\n",
      " [ 0.14264602  0.16850004  1.02933621 -0.4466074  -1.24746504]\n",
      " [ 1.1454839  -0.69757337  0.36725996 -0.3053215  -1.67463726]\n",
      " [ 0.85197308  1.61976893  0.87257432  0.83597158  0.02870923]\n",
      " [ 0.07092397  1.01357691 -0.68254572  0.45761095  1.74880291]\n",
      " [ 0.65066999 -0.85931578  1.25822802 -1.25639276 -0.18061439]\n",
      " [-0.12320872  0.26496518  0.65044946 -0.34637718  0.36493894]\n",
      " [-0.28016801  0.56087881  1.33747185  0.23254868 -0.31203364]\n",
      " [ 0.07595352  0.97988949  0.4101786   1.02715423 -1.72854406]\n",
      " [ 0.58065976 -1.67530479 -0.73085558  1.06018063 -1.7220551 ]\n",
      " [-0.72235401  0.15658297  0.84726532 -1.1236906  -0.26067943]\n",
      " [ 0.35227577 -0.69981957  1.5251539   0.66114076 -0.56026989]\n",
      " [ 0.21593344  0.14533063 -0.52857789  1.43210322 -1.46236343]\n",
      " [-0.70231993 -2.90158538 -0.38893713 -0.61888663 -2.2563985 ]\n",
      " [ 0.08773786 -1.23294371 -0.24079002  1.06423386 -0.03515358]\n",
      " [-0.36362541  1.32921805 -1.56762674 -0.49259281  0.49722366]\n",
      " [ 1.12576207 -0.07077056 -0.6498065   0.25280905  1.92084406]\n",
      " [ 0.71514417  0.06157349  1.82658209  0.22797321  0.1885216 ]\n",
      " [ 0.17046722 -1.79315533 -1.35508047  0.56985186 -1.49247547]\n",
      " [ 1.22115566 -0.19363035  0.86027496 -0.29341234  0.28768172]\n",
      " [-1.68163787  1.52004588  1.17842897  0.04545639  0.66138355]\n",
      " [ 0.62582803 -0.81312819 -0.84382803 -0.04682059  0.18749664]\n",
      " [ 0.75080356  0.50238841  1.08057429 -0.17334301  0.89688394]\n",
      " [ 0.20314736 -0.52493539  0.68684046  0.1606403  -0.28783082]\n",
      " [ 1.78895677  1.52052814 -0.10306462  0.74486306  0.7567172 ]\n",
      " [-0.23411283  2.70809834 -0.70477998  1.26637396  0.73853706]\n",
      " [ 0.1429275  -0.68754528 -0.83598056  0.32371816  1.71663816]\n",
      " [ 1.88767949 -1.14400714  0.72463444  1.09326635 -1.10710226]\n",
      " [ 0.40275412  0.73200584  1.10866237  1.06944209 -0.50698042]] \n",
      " [[-1.1275985  -0.14606993  0.18378009]\n",
      " [-1.0849487  -0.70539842  3.70656391]\n",
      " [ 2.81764282 -2.81723693 -0.26480578]\n",
      " [-0.71602511  0.70802061 -2.21000047]\n",
      " [-0.22879887  1.20874442  0.3692397 ]]\n"
     ]
    }
   ],
   "source": [
    "print(w1,\"\\n\",w2)"
   ]
  },
  {
   "cell_type": "code",
   "execution_count": 651,
   "id": "b1f40e82-3ad8-4b00-a0ad-c8ee9b30a09f",
   "metadata": {},
   "outputs": [
    {
     "data": {
      "image/png": "[encoded data removed]",
      "text/plain": [
       "<Figure size 400x400 with 2 Axes>"
      ]
     },
     "metadata": {},
     "output_type": "display_data"
    }
   ],
   "source": [
    "# Prediction function\n",
    "predict(x[0],w1,w2)"
   ]
  },
  {
   "cell_type": "code",
   "execution_count": 653,
   "id": "95a05006-3136-4506-a2af-49a4ef780571",
   "metadata": {},
   "outputs": [
    {
     "data": {
      "image/png": "[encoded data removed]",
      "text/plain": [
       "<Figure size 400x400 with 2 Axes>"
      ]
     },
     "metadata": {},
     "output_type": "display_data"
    }
   ],
   "source": [
    "# Prediction function\n",
    "predict(x[1],w1,w2)"
   ]
  },
  {
   "cell_type": "code",
   "execution_count": 655,
   "id": "1fc430ba-3ae1-4743-8eca-3550fb1546c5",
   "metadata": {},
   "outputs": [
    {
     "data": {
      "image/png": "[encoded data removed]",
      "text/plain": [
       "<Figure size 400x400 with 2 Axes>"
      ]
     },
     "metadata": {},
     "output_type": "display_data"
    }
   ],
   "source": [
    "# Prediction function\n",
    "predict(x[2],w1,w2)"
   ]
  },
  {
   "cell_type": "code",
   "execution_count": null,
   "id": "e221ec98-3bf9-426a-b7a4-c3e83769cdfc",
   "metadata": {},
   "outputs": [],
   "source": []
  },
  {
   "cell_type": "code",
   "execution_count": null,
   "id": "dc9f7554-d1f9-4000-b78d-30285e422eb4",
   "metadata": {},
   "outputs": [],
   "source": []
  }
 ],
 "metadata": {
  "kernelspec": {
   "display_name": "Python [conda env:base] *",
   "language": "python",
   "name": "conda-base-py"
  },
  "language_info": {
   "codemirror_mode": {
    "name": "ipython",
    "version": 3
   },
   "file_extension": ".py",
   "mimetype": "text/x-python",
   "name": "python",
   "nbconvert_exporter": "python",
   "pygments_lexer": "ipython3",
   "version": "3.12.7"
  }
 },
 "nbformat": 4,
 "nbformat_minor": 5
}
