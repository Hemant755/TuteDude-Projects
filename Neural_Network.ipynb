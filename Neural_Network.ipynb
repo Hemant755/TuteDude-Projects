{
 "cells": [
  {
   "cell_type": "code",
   "execution_count": 1,
   "id": "61825a3f-85cd-4f21-9ec1-3daed0b39f8d",
   "metadata": {},
   "outputs": [],
   "source": [
    "# Importing Libraries\n",
    "import numpy as np\n",
    "import matplotlib.pyplot as plt"
   ]
  },
  {
   "cell_type": "code",
   "execution_count": 11,
   "id": "71658667-6d85-4da0-83e8-67fb3fc0ffa2",
   "metadata": {},
   "outputs": [],
   "source": [
    "# Defining Binary Image Data\n",
    "# Define binary pixel patterns for A, B, and C (Fkattend into 1D array)\n",
    "letter_A = np.array([\n",
    "    0,0,1,1,1,0,\n",
    "    0,1,0,0,0,1,\n",
    "    1,0,0,0,0,1,\n",
    "    1,1,1,1,1,1,\n",
    "    1,0,0,0,0,1\n",
    "])\n",
    "\n",
    "letter_B = np.array([\n",
    "    1,1,1,1,0,0,\n",
    "    1,0,0,0,1,0,\n",
    "    1,1,1,1,0,0,\n",
    "    1,0,0,0,1,0,\n",
    "    1,1,1,1,0,0\n",
    "])\n",
    "\n",
    "letter_C = np.array([\n",
    "    0,1,1,1,1,0,\n",
    "    1,0,0,0,0,1,\n",
    "    1,0,0,0,0,0,\n",
    "    1,0,0,0,0,1,\n",
    "    0,1,1,1,1,0\n",
    "])\n"
   ]
  },
  {
   "cell_type": "code",
   "execution_count": 15,
   "id": "3130896d-3dcd-4be4-b568-860dd27d41eb",
   "metadata": {},
   "outputs": [],
   "source": [
    "# Defining training data and labels\n",
    "X_train = np.array([letter_A, letter_B, letter_C])  # Input images\n",
    "Y_train = np.array([\n",
    "    [1,0,0],  # Label for A\n",
    "    [0,1,0],  # Label for B\n",
    "    [0,0,1]   # Label for C\n",
    "])\n"
   ]
  },
  {
   "cell_type": "code",
   "execution_count": 21,
   "id": "fe8d207c-6621-43da-a080-53d575630c77",
   "metadata": {},
   "outputs": [],
   "source": [
    "# Defining Neural Network Functions\n",
    "# Sigmoid Activation Function\n",
    "def sigmoid(x):\n",
    "    return 1 / (1 + np.exp(-x))\n",
    "\n",
    "# Derivative of Sigmoid\n",
    "def sigmoid_derivative(x):\n",
    "    return x * (1 - x)\n"
   ]
  },
  {
   "cell_type": "code",
   "execution_count": 19,
   "id": "31131092-85fa-4d48-87b6-733eba403487",
   "metadata": {},
   "outputs": [],
   "source": [
    "# Initialize Network Parameters\n",
    "input_size = 30  # 5x6 grid flattened\n",
    "hidden_size = 10 # Hidden layer neurons\n",
    "output_size = 3  # Three classes (A, B, C)\n",
    "\n",
    "np.random.seed(42)\n",
    "weights_input_hidden = np.random.uniform(-1, 1, (input_size, hidden_size))\n",
    "weights_hidden_output = np.random.uniform(-1, 1, (hidden_size, output_size))\n",
    "\n",
    "bias_hidden = np.random.uniform(-1, 1, (1, hidden_size))\n",
    "bias_output = np.random.uniform(-1, 1, (1, output_size))"
   ]
  },
  {
   "cell_type": "code",
   "execution_count": 23,
   "id": "bd87e6a1-63cd-4fd2-b3d6-ebceb501bb8a",
   "metadata": {},
   "outputs": [
    {
     "name": "stdout",
     "output_type": "stream",
     "text": [
      "Epoch 0: Loss = 0.22632\n",
      "Epoch 1000: Loss = 0.00266\n",
      "Epoch 2000: Loss = 0.00117\n",
      "Epoch 3000: Loss = 0.00074\n",
      "Epoch 4000: Loss = 0.00053\n"
     ]
    }
   ],
   "source": [
    "# Train the Neural Network Using Backpropagation\n",
    "epochs = 5000\n",
    "learning_rate = 0.1\n",
    "\n",
    "loss_history = []\n",
    "\n",
    "for epoch in range(epochs):\n",
    "    # Forward Pass\n",
    "    hidden_input = np.dot(X_train, weights_input_hidden) + bias_hidden\n",
    "    hidden_output = sigmoid(hidden_input)\n",
    "\n",
    "    final_input = np.dot(hidden_output, weights_hidden_output) + bias_output\n",
    "    final_output = sigmoid(final_input)\n",
    "\n",
    "    # Compute Loss\n",
    "    loss = np.mean((Y_train - final_output) ** 2)\n",
    "    loss_history.append(loss)\n",
    "\n",
    "    # Backpropagation\n",
    "    error_output = Y_train - final_output\n",
    "    delta_output = error_output * sigmoid_derivative(final_output)\n",
    "\n",
    "    error_hidden = np.dot(delta_output, weights_hidden_output.T)\n",
    "    delta_hidden = error_hidden * sigmoid_derivative(hidden_output)\n",
    "\n",
    "    # Update Weights and Biases\n",
    "    weights_hidden_output += np.dot(hidden_output.T, delta_output) * learning_rate\n",
    "    bias_output += np.sum(delta_output, axis=0, keepdims=True) * learning_rate\n",
    "\n",
    "    weights_input_hidden += np.dot(X_train.T, delta_hidden) * learning_rate\n",
    "    bias_hidden += np.sum(delta_hidden, axis=0, keepdims=True) * learning_rate\n",
    "\n",
    "    # Print loss every 1000 epochs\n",
    "    if epoch % 1000 == 0:\n",
    "        print(f\"Epoch {epoch}: Loss = {loss:.5f}\")\n"
   ]
  },
  {
   "cell_type": "code",
   "execution_count": 25,
   "id": "53750331-c8d5-4a81-a4fe-a04edd9bae2c",
   "metadata": {},
   "outputs": [
    {
     "data": {
      "image/png": "[encoded data removed]",
      "text/plain": [
       "<Figure size 640x480 with 1 Axes>"
      ]
     },
     "metadata": {},
     "output_type": "display_data"
    }
   ],
   "source": [
    "# Plotting Loss Curve\n",
    "plt.plot(loss_history)\n",
    "plt.xlabel(\"Epochs\")\n",
    "plt.ylabel(\"Loss\")\n",
    "plt.title(\"Training Loss Over Time\")\n",
    "plt.show()"
   ]
  },
  {
   "cell_type": "code",
   "execution_count": 31,
   "id": "5978e375-3c7d-4920-8b23-c4f1935425c6",
   "metadata": {},
   "outputs": [
    {
     "name": "stdout",
     "output_type": "stream",
     "text": [
      "Predicted Letter: A\n"
     ]
    },
    {
     "data": {
      "image/png": "[encoded data removed]",
      "text/plain": [
       "<Figure size 640x480 with 1 Axes>"
      ]
     },
     "metadata": {},
     "output_type": "display_data"
    }
   ],
   "source": [
    "# Testing the Model\n",
    "def predict(image):\n",
    "    hidden_input = np.dot(image, weights_input_hidden) + bias_hidden\n",
    "    hidden_output = sigmoid(hidden_input)\n",
    "\n",
    "    final_input = np.dot(hidden_output, weights_hidden_output) + bias_output\n",
    "    final_output = sigmoid(final_input)\n",
    "\n",
    "    return np.argmax(final_output)  # Get index of highest probability\n",
    "\n",
    "# Example Test\n",
    "test_image = letter_A\n",
    "predicted_label = predict(test_image)\n",
    "\n",
    "labels = ['A', 'B', 'C']\n",
    "print(f\"Predicted Letter: {labels[predicted_label]}\")\n",
    "\n",
    "# Display the test image\n",
    "plt.imshow(test_image.reshape(5,6), cmap='gray')\n",
    "plt.title(f\"Predicted: {labels[predicted_label]}\")\n",
    "plt.show()\n"
   ]
  },
  {
   "cell_type": "code",
   "execution_count": null,
   "id": "86e2a865-10ec-4e25-a5dc-e9bea70db07c",
   "metadata": {},
   "outputs": [],
   "source": []
  }
 ],
 "metadata": {
  "kernelspec": {
   "display_name": "Python [conda env:base] *",
   "language": "python",
   "name": "conda-base-py"
  },
  "language_info": {
   "codemirror_mode": {
    "name": "ipython",
    "version": 3
   },
   "file_extension": ".py",
   "mimetype": "text/x-python",
   "name": "python",
   "nbconvert_exporter": "python",
   "pygments_lexer": "ipython3",
   "version": "3.12.7"
  }
 },
 "nbformat": 4,
 "nbformat_minor": 5
}
